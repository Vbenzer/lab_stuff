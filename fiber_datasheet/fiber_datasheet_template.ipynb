{
 "cells": [
  {
   "cell_type": "raw",
   "id": "f0afed18-e842-42dc-bde6-3c84a80ffc7d",
   "metadata": {},
   "source": [
    "---\n",
    "title: \"\"\n",
    "format:\n",
    "  pdf:\n",
    "    echo: false\n",
    "    code-block-bg: false\n",
    "    highlight: false\n",
    "    number-sections: false\n",
    "    include-in-header: preamble.tex\n",
    "execute:\n",
    "  enabled: true\n",
    "params:\n",
    "  fiber_folder: \"fiber_001\"\n",
    "---"
   ]
  },
  {
   "cell_type": "code",
   "execution_count": 1,
   "id": "12cc0c44-262a-46b3-beeb-82959e793fc8",
   "metadata": {
    "slideshow": {
     "slide_type": ""
    },
    "tags": [
     "parameters"
    ]
   },
   "outputs": [],
   "source": [
    "#| parameters\n",
    "fiber_folder = \"fiber1\""
   ]
  },
  {
   "cell_type": "code",
   "execution_count": 2,
   "id": "b79ddf26",
   "metadata": {
    "tags": [
     "injected-parameters"
    ]
   },
   "outputs": [],
   "source": [
    "\n",
    "# Injected Parameters\n",
    "fiber_folder = \"R_25x40_0000_0001\"\n"
   ]
  },
  {
   "cell_type": "code",
   "execution_count": 3,
   "id": "052e0759-1e6e-44cf-af7f-2e9234d620ec",
   "metadata": {},
   "outputs": [],
   "source": [
    "from IPython.display import display, Markdown, Image, Latex\n",
    "import os\n",
    "import json\n",
    "import sys\n",
    "import socket\n",
    "import shutil\n",
    "import math\n",
    "local_images_folder = \"Images\"\n",
    "if os.path.exists(local_images_folder):\n",
    "    for file in os.listdir(local_images_folder):\n",
    "        file_path = os.path.join(local_images_folder, file)\n",
    "        if os.path.isfile(file_path) or os.path.islink(file_path):\n",
    "            os.unlink(file_path)\n",
    "        elif os.path.isdir(file_path):\n",
    "            shutil.rmtree(file_path)\n",
    "else:\n",
    "    os.makedirs(local_images_folder)\n",
    "    \n",
    "if sys.platform.startswith(\"linux\"):\n",
    "    BASE_PATH = r\"/run/user/1002/gvfs/smb-share:server=srv4.local,share=labshare/raw_data/fibers/Measurements\"\n",
    "elif sys.platform.startswith(\"win\"):\n",
    "    hostname = socket.gethostname()\n",
    "    if hostname == \"DESKTOP-HEBN59N\":\n",
    "        BASE_PATH = r\"D:\\Vincent\"\n",
    "    else:\n",
    "        BASE_PATH = r\"\\\\srv4\\labshare\\raw_data\\fibers\\Measurements\"\n",
    "\n",
    "base_path = BASE_PATH\n",
    "fiber_path = os.path.join(base_path, fiber_folder)\n",
    "dirlist = os.listdir(fiber_path)\n",
    "fp = False\n",
    "frd = False\n",
    "sg = False\n",
    "nf_ff = False\n",
    "tp = False"
   ]
  },
  {
   "cell_type": "code",
   "execution_count": 4,
   "id": "d3720a61-a07b-42d4-a17f-43a3744d5b3d",
   "metadata": {},
   "outputs": [],
   "source": [
    "# Useful functions\n",
    "def show_figure(name, folder, width=1):\n",
    "    # Construct the LaTeX code with centered image\n",
    "    latex_code = r\"\"\"\n",
    "    \\begin{center}\n",
    "        \\includegraphics[width=\"\"\" + str(width) + r\"\"\"\\textwidth]{\"\"\" + os.path.join(folder, name).replace('\\\\', '/') + r\"\"\"}\n",
    "    \\end{center}\n",
    "    \"\"\"\n",
    "    # Display the LaTeX code\n",
    "    display(Latex(latex_code))"
   ]
  },
  {
   "cell_type": "code",
   "execution_count": 5,
   "id": "d7ae5345-8374-47f3-a008-7467c82db44d",
   "metadata": {},
   "outputs": [],
   "source": [
    "if \"fiber_polishing\" in os.listdir(fiber_path):\n",
    "    fp = True\n",
    "    polishing_images = os.path.join(fiber_path, \"fiber_polishing\")\n",
    "    img_list = os.listdir(polishing_images)\n",
    "    img_paths = []\n",
    "\n",
    "    if any(\"step5\" in item for item in img_list):\n",
    "        img_paths = [os.path.join(polishing_images, i) for i in img_list if \"step5\" in i]\n",
    "    else:\n",
    "        img_paths = [os.path.join(polishing_images, i) for i in img_list if \"step4\" in i]\n",
    "\n",
    "    for img_path in img_paths:\n",
    "        shutil.copy(img_path, local_images_folder)"
   ]
  },
  {
   "cell_type": "code",
   "execution_count": 6,
   "id": "e13d5f14-f3e7-4ad3-81c6-2f888e5e4185",
   "metadata": {},
   "outputs": [],
   "source": [
    "if \"FRD\" in os.listdir(fiber_path):\n",
    "    frd = True\n",
    "    frd_path = os.path.join(fiber_path, \"FRD\")\n",
    "    if \"f_number_vs_input.png\" in os.listdir(frd_path):\n",
    "        shutil.copy(os.path.join(frd_path, \"f_number_vs_input.png\"), local_images_folder)\n",
    "    if \"encircled_energy_vs_output.png\" in os.listdir(frd_path):\n",
    "        shutil.copy(os.path.join(frd_path, \"encircled_energy_vs_output.png\"), local_images_folder)\n",
    "\n",
    "    if \"filter_2\" in os.listdir(frd_path):\n",
    "        filter_2_path = os.path.join(frd_path, \"filter_2\")\n",
    "        filter_2_f_ratio_path = os.path.join(filter_2_path, \"f_ratio_images\")\n",
    "        if \"input_6.21_with_artificial_apertures.png\" in os.listdir(filter_2_f_ratio_path):\n",
    "            shutil.copy(os.path.join(filter_2_f_ratio_path, \"input_6.21_with_artificial_apertures.png\"), local_images_folder)\n",
    "        if \"f_ratio_6.21.png\" in os.listdir(filter_2_f_ratio_path):\n",
    "            shutil.copy(os.path.join(filter_2_f_ratio_path, \"f_ratio_6.21.png\"), local_images_folder)\n",
    "        if \"plots\" in os.listdir(filter_2_f_ratio_path):\n",
    "            shutil.copy(os.path.join(filter_2_f_ratio_path, \"plots\", \"horizontal_cut.png\"), local_images_folder)\n",
    "\n",
    "    if \"filter_6.0\" in os.listdir(frd_path):\n",
    "        filter_6_path = os.path.join(frd_path, \"filter_6.0\")\n",
    "        filter_f_ratio_path = os.path.join(filter_6_path, \"f_ratio_images\")\n",
    "        if \"input_6.21_with_artificial_apertures.png\" in os.listdir(filter_f_ratio_path):\n",
    "            shutil.copy(os.path.join(filter_f_ratio_path, \"input_6.21_with_artificial_apertures.png\"), local_images_folder)\n",
    "        if \"plots\" in os.listdir(filter_6_path):\n",
    "            shutil.copy(os.path.join(filter_6_path, \"plots\", \"horizontal_cut.png\"), local_images_folder)\n"
   ]
  },
  {
   "cell_type": "code",
   "execution_count": 7,
   "id": "4013cb96-c8df-48f6-af24-1916b601c283",
   "metadata": {
    "slideshow": {
     "slide_type": ""
    },
    "tags": []
   },
   "outputs": [],
   "source": [
    "if \"SG\" in os.listdir(fiber_path):\n",
    "    sg = True\n",
    "    sg_path = os.path.join(fiber_path, \"SG\")\n",
    "    sg_plots = os.path.join(sg_path, \"plots\")\n",
    "    img_list = os.listdir(sg_plots)\n",
    "    \n",
    "    for img in img_list:\n",
    "        if img.endswith('.png'):\n",
    "            new_filename = \"sg_\" + img\n",
    "            shutil.copy(os.path.join(sg_plots, img), os.path.join(local_images_folder, new_filename))\n",
    "    if \"video_prep\" in os.listdir(sg_path):\n",
    "        entrance_imgs = os.path.join(sg_path, \"video_prep\", \"entrance\")\n",
    "        exit_imgs = os.path.join(sg_path, \"video_prep\", \"exit\")\n",
    "        entrance_list = os.listdir(entrance_imgs)\n",
    "        exit_list = os.listdir(exit_imgs)\n",
    "        for img in entrance_list:\n",
    "            if img.endswith('.png'):\n",
    "                new_filename = \"sg_vid_\" + img\n",
    "                shutil.copy(os.path.join(entrance_imgs, img), os.path.join(local_images_folder, new_filename))\n",
    "        for img in exit_list:\n",
    "            if img.endswith('.png'):\n",
    "                new_filename = \"sg_vid_\" + img\n",
    "                shutil.copy(os.path.join(exit_imgs, img), os.path.join(local_images_folder, new_filename))"
   ]
  },
  {
   "cell_type": "code",
   "execution_count": 8,
   "id": "2d0da245-78d1-4e0d-9d68-20ef154b488e",
   "metadata": {},
   "outputs": [],
   "source": [
    "if \"NF_FF\" in os.listdir(fiber_path):\n",
    "    nf_ff = True\n",
    "    nf_ff_path = os.path.join(fiber_path, \"NF_FF\")\n",
    "    exit_path = os.path.join(nf_ff_path, \"exit\")\n",
    "    entrance_path = os.path.join(nf_ff_path, \"entrance\")\n",
    "\n",
    "    entr_ls = [img for img in os.listdir(os.path.join(entrance_path, \"cut\")) if img.endswith(\".png\")]\n",
    "    exit_ls = [img for img in os.listdir(os.path.join(exit_path, \"cut\")) if img.endswith(\".png\")]\n",
    "    \n",
    "    for img in entr_ls:\n",
    "        new_filename = \"nf_ff_\" + img\n",
    "        shutil.copy(os.path.join(entrance_path, \"cut\", img), os.path.join(local_images_folder, new_filename))\n",
    "    for img in exit_ls:\n",
    "        new_filename = \"nf_ff_\" + img\n",
    "        shutil.copy(os.path.join(exit_path, \"cut\", img), os.path.join(local_images_folder, new_filename))"
   ]
  },
  {
   "cell_type": "code",
   "execution_count": 9,
   "id": "dde317a5-040d-459f-9708-e6671e093c5a",
   "metadata": {},
   "outputs": [],
   "source": [
    "if \"Throughput\" in os.listdir(fiber_path):\n",
    "    tp = True\n",
    "    tp_path = os.path.join(fiber_path, \"Throughput\")\n",
    "    if \"throughput.png\" in os.listdir(tp_path):\n",
    "        shutil.copy(os.path.join(tp_path, \"throughput.png\"), local_images_folder)"
   ]
  },
  {
   "cell_type": "code",
   "execution_count": 10,
   "id": "25ee4e04-06cb-4312-afe1-786c131dbb7b",
   "metadata": {},
   "outputs": [
    {
     "data": {
      "text/latex": [
       "\n",
       "    \\begin{center}\n",
       "        \\Huge \\textbf{Fiber Datasheet for: R\\_25x40\\_0000\\_0001}\n",
       "    \\end{center}\n"
      ],
      "text/plain": [
       "<IPython.core.display.Latex object>"
      ]
     },
     "metadata": {},
     "output_type": "display_data"
    }
   ],
   "source": [
    "latex_code = r\"\"\"\n",
    "    \\begin{center}\n",
    "        \\Huge \\textbf{Fiber Datasheet for: \"\"\" + fiber_folder.replace('_', r'\\_') + r\"\"\"}\n",
    "    \\end{center}\n",
    "\"\"\"\n",
    "display(Latex(latex_code))"
   ]
  },
  {
   "cell_type": "code",
   "execution_count": 11,
   "id": "f028cf24-1fe7-4139-92da-69c31db21712",
   "metadata": {
    "slideshow": {
     "slide_type": ""
    },
    "tags": []
   },
   "outputs": [
    {
     "data": {
      "text/latex": [
       "\n",
       "        \\begin{center}\n",
       "        \\vspace{1cm}\n",
       "        \\LARGE \\textbf{Fiber Data}\n",
       "        \\end{center}\n",
       "        "
      ],
      "text/plain": [
       "<IPython.core.display.Latex object>"
      ]
     },
     "metadata": {},
     "output_type": "display_data"
    },
    {
     "data": {
      "text/markdown": [
       "\n",
       "| **Name**        | R_25x40_0000_0001               |\n",
       "|-----------------------|------------------------------------------|\n",
       "| **Dimensions [$\\mu m$]**   | ['25', '40']          |\n",
       "| **Shape**        | rectangular              |\n",
       "| **Length [m]**       | 4             |\n",
       "| **Numerical Aperture** | 0.22      |\n",
       "| **Coating Type**       | Acrylate             |\n",
       "| **Manufacturer**       |              |\n"
      ],
      "text/plain": [
       "<IPython.core.display.Markdown object>"
      ]
     },
     "metadata": {},
     "output_type": "display_data"
    }
   ],
   "source": [
    "with open(os.path.join(fiber_path, \"fiber_data.json\")) as f:\n",
    "    fiber_data = json.load(f)\n",
    "\n",
    "display(Latex(\n",
    "        r\"\"\"\n",
    "        \\begin{center}\n",
    "        \\vspace{1cm}\n",
    "        \\LARGE \\textbf{Fiber Data}\n",
    "        \\end{center}\n",
    "        \"\"\"))\n",
    "\n",
    "table = rf\"\"\"\n",
    "| **Name**        | {fiber_data['fiber_name']}               |\n",
    "|-----------------------|------------------------------------------|\n",
    "| **Dimensions [$\\mu m$]**   | {fiber_data['fiber_dimension']}          |\n",
    "| **Shape**        | {fiber_data['fiber_shape']}              |\n",
    "| **Length [m]**       | {fiber_data['fiber_length']}             |\n",
    "| **Numerical Aperture** | {fiber_data['numerical_aperature']}      |\n",
    "| **Coating Type**       | {fiber_data['coating_type']}             |\n",
    "| **Manufacturer**       | {fiber_data['manufacturer']}             |\n",
    "\"\"\"\n",
    "\n",
    "display(Markdown(table))\n",
    "if not fp:\n",
    "    display(Markdown(r\"\\newpage\"))"
   ]
  },
  {
   "cell_type": "code",
   "execution_count": 12,
   "id": "64973deb-fcc3-4e24-882e-f52c4336083d",
   "metadata": {},
   "outputs": [],
   "source": [
    "dirlist = os.listdir(local_images_folder)"
   ]
  },
  {
   "cell_type": "code",
   "execution_count": 13,
   "id": "9f8bb62e-5641-42b0-8cd1-889898bd38f8",
   "metadata": {},
   "outputs": [
    {
     "data": {
      "text/latex": [
       "\n",
       "        \\begin{center}\n",
       "        \\vspace{1cm}\n",
       "        \\LARGE \\textbf{Fiber End Faces}\n",
       "        \\end{center}\n",
       "        "
      ],
      "text/plain": [
       "<IPython.core.display.Latex object>"
      ]
     },
     "metadata": {},
     "output_type": "display_data"
    },
    {
     "data": {
      "text/latex": [
       "\n",
       "        \\begin{center}\n",
       "        \\includegraphics[width=0.4\\textwidth]{Images/step4_end1.png}\n",
       "        \\hspace{1cm}\n",
       "        \\includegraphics[width=0.4\\textwidth]{Images/step4_end2.png}\n",
       "        \\end{center}\n",
       "        "
      ],
      "text/plain": [
       "<IPython.core.display.Latex object>"
      ]
     },
     "metadata": {},
     "output_type": "display_data"
    },
    {
     "data": {
      "text/markdown": [
       "\\newpage"
      ],
      "text/plain": [
       "<IPython.core.display.Markdown object>"
      ]
     },
     "metadata": {},
     "output_type": "display_data"
    }
   ],
   "source": [
    "img_paths = []\n",
    "if fp:\n",
    "    display(Latex(\n",
    "        r\"\"\"\n",
    "        \\begin{center}\n",
    "        \\vspace{1cm}\n",
    "        \\LARGE \\textbf{Fiber End Faces}\n",
    "        \\end{center}\n",
    "        \"\"\"))\n",
    "    \n",
    "    if any(\"step5\" in item for item in dirlist):\n",
    "        img_paths = [os.path.join(local_images_folder, i) for i in dirlist if \"step5\" in i]\n",
    "    else:\n",
    "        img_paths = [os.path.join(local_images_folder, i) for i in dirlist if \"step4\" in i]\n",
    "    \n",
    "    if img_paths:\n",
    "        latex_str = r\"\"\"\n",
    "        \\begin{center}\n",
    "        \\includegraphics[width=0.4\\textwidth]{\"\"\" + img_paths[0].replace('\\\\', '/') + r\"\"\"}\n",
    "        \\hspace{1cm}\n",
    "        \\includegraphics[width=0.4\\textwidth]{\"\"\" + img_paths[1].replace('\\\\', '/') + r\"\"\"}\n",
    "        \\end{center}\n",
    "        \"\"\"\n",
    "        display(Latex(latex_str))\n",
    "        display(Markdown(r\"\\newpage\"))"
   ]
  },
  {
   "cell_type": "code",
   "execution_count": 14,
   "id": "71590d47-3c65-4123-bfff-dc9a2cbd0a2d",
   "metadata": {},
   "outputs": [
    {
     "data": {
      "text/latex": [
       "\n",
       "        \\begin{center}\n",
       "        \\LARGE \\textbf{FRD Results}\n",
       "        \\end{center}\n",
       "        "
      ],
      "text/plain": [
       "<IPython.core.display.Latex object>"
      ]
     },
     "metadata": {},
     "output_type": "display_data"
    },
    {
     "data": {
      "text/latex": [
       "\n",
       "    \\begin{center}\n",
       "        \\includegraphics[width=0.8\\textwidth]{Images/f_number_vs_input.png}\n",
       "    \\end{center}\n",
       "    "
      ],
      "text/plain": [
       "<IPython.core.display.Latex object>"
      ]
     },
     "metadata": {},
     "output_type": "display_data"
    },
    {
     "data": {
      "text/latex": [
       "\n",
       "    \\begin{center}\n",
       "        \\includegraphics[width=0.8\\textwidth]{Images/encircled_energy_vs_output.png}\n",
       "    \\end{center}\n",
       "    "
      ],
      "text/plain": [
       "<IPython.core.display.Latex object>"
      ]
     },
     "metadata": {},
     "output_type": "display_data"
    },
    {
     "data": {
      "text/latex": [
       "\n",
       "        \\begin{center}\n",
       "        \\large \\textbf{Farfield of the fiber with virtual apertures}\n",
       "        \\vspace{0cm}\n",
       "        \\end{center}\n",
       "        "
      ],
      "text/plain": [
       "<IPython.core.display.Latex object>"
      ]
     },
     "metadata": {},
     "output_type": "display_data"
    },
    {
     "data": {
      "text/latex": [
       "\n",
       "    \\begin{center}\n",
       "        \\includegraphics[width=0.8\\textwidth]{Images/input_6.21_with_artificial_apertures.png}\n",
       "    \\end{center}\n",
       "    "
      ],
      "text/plain": [
       "<IPython.core.display.Latex object>"
      ]
     },
     "metadata": {},
     "output_type": "display_data"
    },
    {
     "data": {
      "text/latex": [
       "\n",
       "        \\begin{center}\n",
       "        \\vspace{1cm}\n",
       "        \\large \\textbf{Horizontal Farfield Cut}\n",
       "        \\vspace{0cm}\n",
       "        \\end{center}\n",
       "        "
      ],
      "text/plain": [
       "<IPython.core.display.Latex object>"
      ]
     },
     "metadata": {},
     "output_type": "display_data"
    },
    {
     "data": {
      "text/latex": [
       "\n",
       "    \\begin{center}\n",
       "        \\includegraphics[width=0.6\\textwidth]{Images/horizontal_cut.png}\n",
       "    \\end{center}\n",
       "    "
      ],
      "text/plain": [
       "<IPython.core.display.Latex object>"
      ]
     },
     "metadata": {},
     "output_type": "display_data"
    },
    {
     "data": {
      "text/markdown": [
       "\\newpage"
      ],
      "text/plain": [
       "<IPython.core.display.Markdown object>"
      ]
     },
     "metadata": {},
     "output_type": "display_data"
    }
   ],
   "source": [
    "display(Latex(\n",
    "        r\"\"\"\n",
    "        \\begin{center}\n",
    "        \\LARGE \\textbf{FRD Results}\n",
    "        \\end{center}\n",
    "        \"\"\"))\n",
    "if frd:\n",
    "    if \"f_number_vs_input.png\" in dirlist:\n",
    "        show_figure(\"f_number_vs_input.png\", local_images_folder, 0.8)\n",
    "        #display(Image(filename=os.path.join(local_images_folder, \"f_number_vs_input.png\")))\n",
    "    if \"encircled_energy_vs_output.png\" in dirlist:\n",
    "        show_figure(\"encircled_energy_vs_output.png\", local_images_folder, 0.8)\n",
    "        #display(Image(filename=os.path.join(local_images_folder, \"encircled_energy_vs_output.png\")))\n",
    "    if \"input_6.21_with_artificial_apertures.png\" in dirlist:\n",
    "        display(Latex(\n",
    "        r\"\"\"\n",
    "        \\begin{center}\n",
    "        \\large \\textbf{Farfield of the fiber with virtual apertures}\n",
    "        \\vspace{0cm}\n",
    "        \\end{center}\n",
    "        \"\"\"))\n",
    "        show_figure(\"input_6.21_with_artificial_apertures.png\", local_images_folder, 0.8)\n",
    "        #display(Latex(r\"\"\"\\includegraphics[width=\\textwidth]{\"\"\" + os.path.join(local_images_folder, \"input_6.21_with_artificial_apertures.png\").replace('\\\\', '/') + r\"\"\"}\"\"\"))\n",
    "    if \"f_ratio_6.21.png\" in dirlist:\n",
    "        display(Latex(\n",
    "        r\"\"\"\n",
    "        \\begin{center}\n",
    "        \\large \\textbf{Farfield of the fiber with virtual apertures}\n",
    "        \\end{center}\n",
    "        \"\"\"))\n",
    "        show_figure(\"f_ratio_6.21.png\", local_images_folder, 0.8)\n",
    "        #display(Latex(r\"\"\"\\includegraphics[width=\\textwidth]{\"\"\" + os.path.join(local_images_folder, \"f_ratio_6.21.png\").replace('\\\\', '/') + r\"\"\"}\"\"\"))\n",
    "    if \"horizontal_cut.png\" in dirlist:\n",
    "        display(Latex(\n",
    "        r\"\"\"\n",
    "        \\begin{center}\n",
    "        \\vspace{1cm}\n",
    "        \\large \\textbf{Horizontal Farfield Cut}\n",
    "        \\vspace{0cm}\n",
    "        \\end{center}\n",
    "        \"\"\"))\n",
    "        show_figure(\"horizontal_cut.png\", local_images_folder, 0.6)\n",
    "        #display(Latex(r\"\"\"\\includegraphics[width=0.8\\textwidth]{\"\"\" + os.path.join(local_images_folder, \"horizontal_cut.png\").replace('\\\\', '/') + r\"\"\"}\"\"\"))\n",
    "    display(Markdown(r\"\\newpage\"))   "
   ]
  },
  {
   "cell_type": "code",
   "execution_count": 15,
   "id": "78d1f322-34cd-4df0-af2f-d4812f9d0231",
   "metadata": {},
   "outputs": [
    {
     "data": {
      "text/latex": [
       "\n",
       "        \\begin{center}\n",
       "        \\LARGE \\textbf{Scrambling Gain Results}\n",
       "        \\end{center}\n",
       "        "
      ],
      "text/plain": [
       "<IPython.core.display.Latex object>"
      ]
     },
     "metadata": {},
     "output_type": "display_data"
    },
    {
     "data": {
      "text/latex": [
       "\n",
       "        \\begin{center}\n",
       "        \\large \\textbf{Minimum Scrambling Gain: \\:\\: $SG_{min}$ = }297\n",
       "        \\end{center}\n",
       "        "
      ],
      "text/plain": [
       "<IPython.core.display.Latex object>"
      ]
     },
     "metadata": {},
     "output_type": "display_data"
    }
   ],
   "source": [
    "if sg:\n",
    "    display(Latex(\n",
    "        r\"\"\"\n",
    "        \\begin{center}\n",
    "        \\LARGE \\textbf{Scrambling Gain Results}\n",
    "        \\end{center}\n",
    "        \"\"\"))\n",
    "    with open(os.path.join(sg_path, \"scrambling_gain_new.json\")) as f:\n",
    "        sg_data = json.load(f)\n",
    "    #display(Markdown(rf\"### Minimum Scrambling Gain: $\\:\\: SG_{{min}}$ = {sg_data['sg_min']}\"))\n",
    "    display(Latex(\n",
    "        r\"\"\"\n",
    "        \\begin{center}\n",
    "        \\large \\textbf{Minimum Scrambling Gain: \\:\\: $SG_{min}$ = }\"\"\" + str(sg_data['sg_min']) + r\"\"\"\n",
    "        \\end{center}\n",
    "        \"\"\"))"
   ]
  },
  {
   "cell_type": "code",
   "execution_count": 16,
   "id": "e0eee0fa-ec41-4c69-b629-66f064447335",
   "metadata": {},
   "outputs": [
    {
     "data": {
      "text/latex": [
       "\n",
       "    \\begin{center}\n",
       "        \\includegraphics[width=0.8\\textwidth]{Images/sg_scrambling_gain_plot.png}\n",
       "    \\end{center}\n",
       "    "
      ],
      "text/plain": [
       "<IPython.core.display.Latex object>"
      ]
     },
     "metadata": {},
     "output_type": "display_data"
    },
    {
     "data": {
      "text/latex": [
       "\n",
       "        \\begin{center}\n",
       "        \\vspace{1cm}\n",
       "        \\large \\textbf{Horizontal Nearfield Cut}\n",
       "        \\end{center}\n",
       "        "
      ],
      "text/plain": [
       "<IPython.core.display.Latex object>"
      ]
     },
     "metadata": {},
     "output_type": "display_data"
    },
    {
     "data": {
      "text/latex": [
       "\n",
       "    \\begin{center}\n",
       "        \\includegraphics[width=0.8\\textwidth]{Images/sg_horizontal_cut.png}\n",
       "    \\end{center}\n",
       "    "
      ],
      "text/plain": [
       "<IPython.core.display.Latex object>"
      ]
     },
     "metadata": {},
     "output_type": "display_data"
    },
    {
     "data": {
      "text/markdown": [
       "\\newpage"
      ],
      "text/plain": [
       "<IPython.core.display.Markdown object>"
      ]
     },
     "metadata": {},
     "output_type": "display_data"
    },
    {
     "data": {
      "text/latex": [
       "\n",
       "        \\begin{center}\n",
       "        \\noindent\\textbf{\\large Behavior for different input spot positions}\n",
       "        \\vspace{0.5cm}\n",
       "        \\begin{tabular}{c c c c}\n",
       "        Entrance & Exit & Entrance & Exit \\\\\n",
       "        \n",
       "            \\includegraphics[width=0.187\\textwidth]{Images/sg\\_vid\\_entrance\\_cam\\_image000\\_reduced\\_cut.png} &\n",
       "            \\includegraphics[width=0.187\\textwidth]{Images/sg\\_vid\\_exit\\_cam\\_image000\\_reduced\\_cut.png} \n",
       "            &\n",
       "                \\includegraphics[width=0.187\\textwidth]{Images/sg\\_vid\\_entrance\\_cam\\_image006\\_reduced\\_cut.png} &\n",
       "                \\includegraphics[width=0.187\\textwidth]{Images/sg\\_vid\\_exit\\_cam\\_image006\\_reduced\\_cut.png} \n",
       "                 \\\\\n",
       "            \n",
       "            \\includegraphics[width=0.187\\textwidth]{Images/sg\\_vid\\_entrance\\_cam\\_image001\\_reduced\\_cut.png} &\n",
       "            \\includegraphics[width=0.187\\textwidth]{Images/sg\\_vid\\_exit\\_cam\\_image001\\_reduced\\_cut.png} \n",
       "            &\n",
       "                \\includegraphics[width=0.187\\textwidth]{Images/sg\\_vid\\_entrance\\_cam\\_image007\\_reduced\\_cut.png} &\n",
       "                \\includegraphics[width=0.187\\textwidth]{Images/sg\\_vid\\_exit\\_cam\\_image007\\_reduced\\_cut.png} \n",
       "                 \\\\\n",
       "            \n",
       "            \\includegraphics[width=0.187\\textwidth]{Images/sg\\_vid\\_entrance\\_cam\\_image002\\_reduced\\_cut.png} &\n",
       "            \\includegraphics[width=0.187\\textwidth]{Images/sg\\_vid\\_exit\\_cam\\_image002\\_reduced\\_cut.png} \n",
       "            &\n",
       "                \\includegraphics[width=0.187\\textwidth]{Images/sg\\_vid\\_entrance\\_cam\\_image008\\_reduced\\_cut.png} &\n",
       "                \\includegraphics[width=0.187\\textwidth]{Images/sg\\_vid\\_exit\\_cam\\_image008\\_reduced\\_cut.png} \n",
       "                 \\\\\n",
       "            \n",
       "            \\includegraphics[width=0.187\\textwidth]{Images/sg\\_vid\\_entrance\\_cam\\_image003\\_reduced\\_cut.png} &\n",
       "            \\includegraphics[width=0.187\\textwidth]{Images/sg\\_vid\\_exit\\_cam\\_image003\\_reduced\\_cut.png} \n",
       "            &\n",
       "                \\includegraphics[width=0.187\\textwidth]{Images/sg\\_vid\\_entrance\\_cam\\_image009\\_reduced\\_cut.png} &\n",
       "                \\includegraphics[width=0.187\\textwidth]{Images/sg\\_vid\\_exit\\_cam\\_image009\\_reduced\\_cut.png} \n",
       "                 \\\\\n",
       "            \n",
       "            \\includegraphics[width=0.187\\textwidth]{Images/sg\\_vid\\_entrance\\_cam\\_image004\\_reduced\\_cut.png} &\n",
       "            \\includegraphics[width=0.187\\textwidth]{Images/sg\\_vid\\_exit\\_cam\\_image004\\_reduced\\_cut.png} \n",
       "            &\n",
       "                \\includegraphics[width=0.187\\textwidth]{Images/sg\\_vid\\_entrance\\_cam\\_image010\\_reduced\\_cut.png} &\n",
       "                \\includegraphics[width=0.187\\textwidth]{Images/sg\\_vid\\_exit\\_cam\\_image010\\_reduced\\_cut.png} \n",
       "                 \\\\\n",
       "            \n",
       "            \\includegraphics[width=0.187\\textwidth]{Images/sg\\_vid\\_entrance\\_cam\\_image005\\_reduced\\_cut.png} &\n",
       "            \\includegraphics[width=0.187\\textwidth]{Images/sg\\_vid\\_exit\\_cam\\_image005\\_reduced\\_cut.png} \n",
       "            & & \\\\\n",
       "            \n",
       "        \\end{tabular}\n",
       "        \\end{center}\n",
       "        "
      ],
      "text/plain": [
       "<IPython.core.display.Latex object>"
      ]
     },
     "metadata": {},
     "output_type": "display_data"
    },
    {
     "data": {
      "text/markdown": [
       "\\newpage"
      ],
      "text/plain": [
       "<IPython.core.display.Markdown object>"
      ]
     },
     "metadata": {},
     "output_type": "display_data"
    }
   ],
   "source": [
    "if sg:\n",
    "    if \"sg_scrambling_gain_plot.png\" in dirlist:\n",
    "        show_figure(\"sg_scrambling_gain_plot.png\", local_images_folder, 0.8)\n",
    "        #display(Image(filename=os.path.join(local_images_folder, \"sg_scrambling_gain_plot.png\")))\n",
    "    \n",
    "    if \"sg_horizontal_cut.png\" in dirlist:\n",
    "        display(Latex(\n",
    "        r\"\"\"\n",
    "        \\begin{center}\n",
    "        \\vspace{1cm}\n",
    "        \\large \\textbf{Horizontal Nearfield Cut}\n",
    "        \\end{center}\n",
    "        \"\"\"))\n",
    "        show_figure(\"sg_horizontal_cut.png\", local_images_folder, 0.8)\n",
    "        #display(Image(filename=os.path.join(local_images_folder, \"sg_horizontal_cut.png\")))\n",
    "    if any(item.startswith(\"sg_vid\") for item in dirlist):\n",
    "        display(Markdown(r\"\\newpage\"))\n",
    "        entr_ls = sorted([img.replace('_', r'\\_') for img in dirlist if \"sg_vid_entrance\" in img])\n",
    "        exit_ls = sorted([img.replace('_', r'\\_') for img in dirlist if \"sg_vid_exit\" in img])\n",
    "        \n",
    "            \n",
    "        num_rows = math.ceil(len(entr_ls) / 2)  # Number of rows needed (2 columns)\n",
    "        column1 = entr_ls[:num_rows], exit_ls[:num_rows]  # First column (top-down)\n",
    "        column2 = entr_ls[num_rows:], exit_ls[num_rows:]  # Second column (top-down)\n",
    "        \n",
    "        size = str(len(entr_ls) * 0.017)\n",
    "        \n",
    "        latex_str = r\"\"\"\n",
    "        \\begin{center}\n",
    "        \\noindent\\textbf{\\large Behavior for different input spot positions}\n",
    "        \\vspace{0.5cm}\n",
    "        \\begin{tabular}{c c c c}\n",
    "        Entrance & Exit & Entrance & Exit \\\\\n",
    "        \"\"\"\n",
    "\n",
    "        for i in range(num_rows):\n",
    "            entr_img1 = column1[0][i]\n",
    "            exit_img1 = column1[1][i]\n",
    "\n",
    "            latex_str += r\"\"\"\n",
    "            \\includegraphics[width=\"\"\" + size + r\"\"\"\\textwidth]{\"\"\" + local_images_folder + \"/\" + entr_img1 + r\"\"\"} &\n",
    "            \\includegraphics[width=\"\"\" + size + r\"\"\"\\textwidth]{\"\"\" + local_images_folder + \"/\" + exit_img1 + r\"\"\"} \n",
    "            \"\"\"\n",
    "\n",
    "            if i < len(column2[0]):  # If the second column has an image\n",
    "                entr_img2 = column2[0][i]\n",
    "                exit_img2 = column2[1][i]\n",
    "\n",
    "                latex_str += r\"\"\"&\n",
    "                \\includegraphics[width=\"\"\" + size + r\"\"\"\\textwidth]{\"\"\" + local_images_folder + \"/\" + entr_img2 + r\"\"\"} &\n",
    "                \\includegraphics[width=\"\"\" + size + r\"\"\"\\textwidth]{\"\"\" + local_images_folder + \"/\" + exit_img2 + r\"\"\"} \n",
    "                \"\"\"\n",
    "\n",
    "            else:  # If the second column is missing, add placeholders to maintain alignment\n",
    "                latex_str += r\"\"\"& &\"\"\"\n",
    "\n",
    "            latex_str += r\"\"\" \\\\\n",
    "            \"\"\"\n",
    "\n",
    "        latex_str += r\"\"\"\n",
    "        \\end{tabular}\n",
    "        \\end{center}\n",
    "        \"\"\"\n",
    "\n",
    "        display(Latex(latex_str))\n",
    "    \n",
    "    display(Markdown(r\"\\newpage\"))"
   ]
  },
  {
   "cell_type": "code",
   "execution_count": 17,
   "id": "e4c904b1-2ff5-4f25-a5d7-236261ecc84e",
   "metadata": {},
   "outputs": [
    {
     "data": {
      "text/markdown": [
       "\\newpage"
      ],
      "text/plain": [
       "<IPython.core.display.Markdown object>"
      ]
     },
     "metadata": {},
     "output_type": "display_data"
    },
    {
     "data": {
      "text/latex": [
       "\n",
       "        \\begin{center}\n",
       "        \\noindent\\textbf{\\large Far-field behavior for different input spot positions}\n",
       "        \\vspace{0.5cm}\n",
       "        \\begin{tabular}{c c c c}\n",
       "        Entrance & Exit & Entrance & Exit \\\\\n",
       "        \n",
       "            \\includegraphics[width=0.187\\textwidth]{Images/nf\\_ff\\_entrance\\_cam\\_cut000.png} &\n",
       "            \\includegraphics[width=0.187\\textwidth]{Images/nf\\_ff\\_exit\\_cam\\_cut000.png} \n",
       "            &\n",
       "                \\includegraphics[width=0.187\\textwidth]{Images/nf\\_ff\\_entrance\\_cam\\_cut006.png} &\n",
       "                \\includegraphics[width=0.187\\textwidth]{Images/nf\\_ff\\_exit\\_cam\\_cut006.png} \n",
       "                 \\\\\n",
       "            \n",
       "            \\includegraphics[width=0.187\\textwidth]{Images/nf\\_ff\\_entrance\\_cam\\_cut001.png} &\n",
       "            \\includegraphics[width=0.187\\textwidth]{Images/nf\\_ff\\_exit\\_cam\\_cut001.png} \n",
       "            &\n",
       "                \\includegraphics[width=0.187\\textwidth]{Images/nf\\_ff\\_entrance\\_cam\\_cut007.png} &\n",
       "                \\includegraphics[width=0.187\\textwidth]{Images/nf\\_ff\\_exit\\_cam\\_cut007.png} \n",
       "                 \\\\\n",
       "            \n",
       "            \\includegraphics[width=0.187\\textwidth]{Images/nf\\_ff\\_entrance\\_cam\\_cut002.png} &\n",
       "            \\includegraphics[width=0.187\\textwidth]{Images/nf\\_ff\\_exit\\_cam\\_cut002.png} \n",
       "            &\n",
       "                \\includegraphics[width=0.187\\textwidth]{Images/nf\\_ff\\_entrance\\_cam\\_cut008.png} &\n",
       "                \\includegraphics[width=0.187\\textwidth]{Images/nf\\_ff\\_exit\\_cam\\_cut008.png} \n",
       "                 \\\\\n",
       "            \n",
       "            \\includegraphics[width=0.187\\textwidth]{Images/nf\\_ff\\_entrance\\_cam\\_cut003.png} &\n",
       "            \\includegraphics[width=0.187\\textwidth]{Images/nf\\_ff\\_exit\\_cam\\_cut003.png} \n",
       "            &\n",
       "                \\includegraphics[width=0.187\\textwidth]{Images/nf\\_ff\\_entrance\\_cam\\_cut009.png} &\n",
       "                \\includegraphics[width=0.187\\textwidth]{Images/nf\\_ff\\_exit\\_cam\\_cut009.png} \n",
       "                 \\\\\n",
       "            \n",
       "            \\includegraphics[width=0.187\\textwidth]{Images/nf\\_ff\\_entrance\\_cam\\_cut004.png} &\n",
       "            \\includegraphics[width=0.187\\textwidth]{Images/nf\\_ff\\_exit\\_cam\\_cut004.png} \n",
       "            &\n",
       "                \\includegraphics[width=0.187\\textwidth]{Images/nf\\_ff\\_entrance\\_cam\\_cut010.png} &\n",
       "                \\includegraphics[width=0.187\\textwidth]{Images/nf\\_ff\\_exit\\_cam\\_cut010.png} \n",
       "                 \\\\\n",
       "            \n",
       "            \\includegraphics[width=0.187\\textwidth]{Images/nf\\_ff\\_entrance\\_cam\\_cut005.png} &\n",
       "            \\includegraphics[width=0.187\\textwidth]{Images/nf\\_ff\\_exit\\_cam\\_cut005.png} \n",
       "            & & \\\\\n",
       "            \n",
       "        \\end{tabular}\n",
       "        \\end{center}\n",
       "        "
      ],
      "text/plain": [
       "<IPython.core.display.Latex object>"
      ]
     },
     "metadata": {},
     "output_type": "display_data"
    }
   ],
   "source": [
    "if nf_ff:\n",
    "    if any(item.startswith(\"nf_ff\") for item in dirlist):\n",
    "        display(Markdown(r\"\\newpage\"))\n",
    "        entr_ls = sorted([img.replace('_', r'\\_') for img in dirlist if \"nf_ff_entrance\" in img])\n",
    "        exit_ls = sorted([img.replace('_', r'\\_') for img in dirlist if \"nf_ff_exit\" in img])\n",
    "        \n",
    "            \n",
    "        num_rows = math.ceil(len(entr_ls) / 2)  # Number of rows needed (2 columns)\n",
    "        column1 = entr_ls[:num_rows], exit_ls[:num_rows]  # First column (top-down)\n",
    "        column2 = entr_ls[num_rows:], exit_ls[num_rows:]  # Second column (top-down)\n",
    "        \n",
    "        size = str(len(entr_ls) * 0.017)\n",
    "        \n",
    "        latex_str = r\"\"\"\n",
    "        \\begin{center}\n",
    "        \\noindent\\textbf{\\large Far-field behavior for different input spot positions}\n",
    "        \\vspace{0.5cm}\n",
    "        \\begin{tabular}{c c c c}\n",
    "        Entrance & Exit & Entrance & Exit \\\\\n",
    "        \"\"\"\n",
    "\n",
    "        for i in range(num_rows):\n",
    "            entr_img1 = column1[0][i]\n",
    "            exit_img1 = column1[1][i]\n",
    "\n",
    "            latex_str += r\"\"\"\n",
    "            \\includegraphics[width=\"\"\" + size + r\"\"\"\\textwidth]{\"\"\" + local_images_folder + \"/\" + entr_img1 + r\"\"\"} &\n",
    "            \\includegraphics[width=\"\"\" + size + r\"\"\"\\textwidth]{\"\"\" + local_images_folder + \"/\" + exit_img1 + r\"\"\"} \n",
    "            \"\"\"\n",
    "\n",
    "            if i < len(column2[0]):  # If the second column has an image\n",
    "                entr_img2 = column2[0][i]\n",
    "                exit_img2 = column2[1][i]\n",
    "\n",
    "                latex_str += r\"\"\"&\n",
    "                \\includegraphics[width=\"\"\" + size + r\"\"\"\\textwidth]{\"\"\" + local_images_folder + \"/\" + entr_img2 + r\"\"\"} &\n",
    "                \\includegraphics[width=\"\"\" + size + r\"\"\"\\textwidth]{\"\"\" + local_images_folder + \"/\" + exit_img2 + r\"\"\"} \n",
    "                \"\"\"\n",
    "\n",
    "            else:  # If the second column is missing, add placeholders to maintain alignment\n",
    "                latex_str += r\"\"\"& &\"\"\"\n",
    "\n",
    "            latex_str += r\"\"\" \\\\\n",
    "            \"\"\"\n",
    "\n",
    "        latex_str += r\"\"\"\n",
    "        \\end{tabular}\n",
    "        \\end{center}\n",
    "        \"\"\"\n",
    "\n",
    "        display(Latex(latex_str))"
   ]
  },
  {
   "cell_type": "code",
   "execution_count": 18,
   "id": "8ee469dd-bd95-4786-ac8a-90f4f2bd8b66",
   "metadata": {},
   "outputs": [],
   "source": [
    "if tp:\n",
    "    if \"throughput.png\" in dirlist:\n",
    "        display(Latex(\n",
    "        r\"\"\"\n",
    "        \\begin{center}\n",
    "        \\LARGE \\textbf{Troughput Results}\n",
    "        \\end{center}\n",
    "        \"\"\"))\n",
    "        display(Image(filename=os.path.join(local_images_folder, \"throughput.png\")))"
   ]
  }
 ],
 "metadata": {
  "kernelspec": {
   "display_name": "Python 3 (ipykernel)",
   "language": "python",
   "name": "python3"
  },
  "language_info": {
   "codemirror_mode": {
    "name": "ipython",
    "version": 3
   },
   "file_extension": ".py",
   "mimetype": "text/x-python",
   "name": "python",
   "nbconvert_exporter": "python",
   "pygments_lexer": "ipython3",
   "version": "3.10.12"
  },
  "papermill": {
   "parameters": {
    "fiber_folder": "R_25x40_0000_0001"
   }
  }
 },
 "nbformat": 4,
 "nbformat_minor": 5
}
